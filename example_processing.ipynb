{
 "cells": [
  {
   "cell_type": "markdown",
   "id": "90eaeddf-9d35-4d87-985a-687906a2f223",
   "metadata": {},
   "source": [
    "# Imports  "
   ]
  },
  {
   "cell_type": "code",
   "execution_count": null,
   "id": "56093d12-5fd8-4afc-b5e2-f60742f8c273",
   "metadata": {},
   "outputs": [],
   "source": [
    "from gliderad2cp import process_adcp"
   ]
  },
  {
   "cell_type": "markdown",
   "id": "448e1770-ab08-490c-9138-50913a61ec55",
   "metadata": {
    "tags": []
   },
   "source": [
    "# Section 1: calculate velocity shear\n",
    "\n",
    "## 1.1 Begin ADCP Data Processing\n",
    "\n",
    "Set paths to input files and specify options"
   ]
  },
  {
   "cell_type": "code",
   "execution_count": null,
   "id": "95656334-5bb7-4323-aa4e-5b220b1fe418",
   "metadata": {},
   "outputs": [],
   "source": [
    "import pooch\n",
    "\n",
    "server = \"https://zenodo.org/records/10082274/files/\"\n",
    "mission = \"sea057_M43\"\n",
    "data_source = pooch.create(\n",
    "    path=pooch.os_cache(\"gliderad2cp\"),\n",
    "    base_url=server,\n",
    "    registry={\n",
    "        \"sea057_M43.ad2cp.00000_1.nc\": \"sha256:775055eff485476af1cf79462e6ae400df04608bc1263434ea9a393e556d7b72\",\n",
    "        \"sea057_M43.ad2cp.00000_2.nc\": \"sha256:71738df881c6a3d770b9c87f2d0607be979b1a75f2fa254c13720195b0cfa97e\",\n",
    "        \"SEA057_M43.pqt\": \"2e72eda509d1c7027c9ed5ec70266b9bb161203e085c3de780aa9ee8ccb9cbce\",\n",
    "    },\n",
    ")"
   ]
  },
  {
   "cell_type": "code",
   "execution_count": null,
   "id": "0ad671fe-6b86-4ce3-afcf-157f68d27fd9",
   "metadata": {},
   "outputs": [],
   "source": [
    "for filename in data_source.registry_files:\n",
    "    data_source.fetch(filename)"
   ]
  },
  {
   "cell_type": "code",
   "execution_count": null,
   "id": "5d514710-e934-4a4a-be70-8e6b4feef2d1",
   "metadata": {},
   "outputs": [],
   "source": [
    "glider_pqt_path = data_source.path / 'SEA057_M43.pqt'\n",
    "adcp_path = f\"{data_source.path}/sea057_M43*.nc\"\n",
    "\n",
    "options = {\n",
    "    'debug_plots' : True,\n",
    "    'correctADCPHeading' : True,\n",
    "    'ADCP_discardFirstBins' : 0, # First bin often very affected by glider, good to discard\n",
    "    'ADCP_correlationThreshold': 70, # 70\n",
    "    'ADCP_amplitudeThreshold' : 75, # 75\n",
    "    'ADCP_velocityThreshold' : 0.8, # 0.6\n",
    "    'correctXshear' : False,\n",
    "    'correctYshear' : False,\n",
    "    'correctZshear' : False,\n",
    "    'correctZZshear' : False,\n",
    "    'ADCP_regrid_correlation_threshold': 20,\n",
    "    'plots_directory': 'plots',\n",
    "    }\n"
   ]
  },
  {
   "cell_type": "markdown",
   "id": "4d76e79b-0e88-48c6-8e26-d12955d2c782",
   "metadata": {},
   "source": [
    "## 1.2 Load ADCP data and add necessary glider variables"
   ]
  },
  {
   "cell_type": "code",
   "execution_count": null,
   "id": "44ea900b-64f5-424a-a104-1fa8d08bdb02",
   "metadata": {},
   "outputs": [],
   "source": [
    "ADCP, data, options = process_adcp.load_adcp_glider_data(adcp_path, glider_pqt_path, options)"
   ]
  },
  {
   "cell_type": "markdown",
   "id": "354dcce2-b35b-425d-8b58-c33eaf07b78f",
   "metadata": {},
   "source": [
    "## 1.3 Start QC Calculate depth of each individual measurement\n"
   ]
  },
  {
   "cell_type": "code",
   "execution_count": null,
   "id": "06f9ed26-c661-489d-971f-87258e86e8ee",
   "metadata": {
    "collapsed": false,
    "jupyter": {
     "outputs_hidden": false
    },
    "pycharm": {
     "name": "#%%\n"
    }
   },
   "outputs": [],
   "source": [
    "ADCP = process_adcp.remapADCPdepth(ADCP, options)"
   ]
  },
  {
   "cell_type": "markdown",
   "id": "d619e957-c6a0-4a79-9d66-d6c841868f53",
   "metadata": {
    "tags": []
   },
   "source": [
    "## 1.4 Correct ADCP Heading"
   ]
  },
  {
   "cell_type": "code",
   "execution_count": null,
   "id": "9e984ad9-703d-4e66-804f-45b6cf235b9a",
   "metadata": {},
   "outputs": [],
   "source": [
    "ADCP = process_adcp.correct_heading(ADCP, data, options)"
   ]
  },
  {
   "cell_type": "markdown",
   "id": "a3fbdde6-dd8c-4290-aaa0-579b997968b5",
   "metadata": {},
   "source": [
    "## 1.5 Perform soundspeed correction"
   ]
  },
  {
   "cell_type": "code",
   "execution_count": null,
   "id": "09b65784-b3ab-44e0-8075-9829ccea642f",
   "metadata": {},
   "outputs": [],
   "source": [
    "ADCP = process_adcp.soundspeed_correction(ADCP)"
   ]
  },
  {
   "cell_type": "markdown",
   "id": "9794b398-1eb2-463e-8311-aa8c0df28353",
   "metadata": {},
   "source": [
    "## 1.6 Outlier and poor correlation removal\n",
    "\n",
    "\n",
    "Now we need to think. What do we discard, what do we keep, do we interpolate across missing bins?"
   ]
  },
  {
   "cell_type": "code",
   "execution_count": null,
   "id": "f73dc698-3c5d-4dd5-b570-d2175e612e84",
   "metadata": {},
   "outputs": [],
   "source": [
    "ADCP = process_adcp.remove_outliers(ADCP, options)"
   ]
  },
  {
   "cell_type": "markdown",
   "id": "27f929ca-e39e-4f14-b57d-e06d42d3f201",
   "metadata": {
    "tags": []
   },
   "source": [
    "### 1.8 Correct shear bias"
   ]
  },
  {
   "cell_type": "code",
   "execution_count": null,
   "id": "97d78b25-6e95-4363-b03f-ba823774fa59",
   "metadata": {},
   "outputs": [],
   "source": [
    "ADCP = process_adcp.correct_shear(ADCP, options)"
   ]
  },
  {
   "cell_type": "markdown",
   "id": "35123b3d-0ada-4884-84ff-3a3dc9d00a03",
   "metadata": {
    "tags": []
   },
   "source": [
    "## 1.9 Remap 3-beam configuration onto isobars"
   ]
  },
  {
   "cell_type": "code",
   "execution_count": null,
   "id": "d442ec59-98ec-4ca5-b88a-16205c89b34c",
   "metadata": {
    "collapsed": false,
    "jupyter": {
     "outputs_hidden": false
    },
    "pycharm": {
     "name": "#%%\n"
    }
   },
   "outputs": [],
   "source": [
    "ADCP = process_adcp.regridADCPdata(ADCP, options)"
   ]
  },
  {
   "cell_type": "markdown",
   "id": "796f7518-8d3b-4a4e-aa7c-5787c486a036",
   "metadata": {},
   "source": [
    "## 1.10 Transform beams to XYZ and ENU velocities"
   ]
  },
  {
   "cell_type": "code",
   "execution_count": null,
   "id": "e1f96d7c-3849-4fa3-975a-30d1496f9dc3",
   "metadata": {
    "collapsed": false,
    "jupyter": {
     "outputs_hidden": false
    },
    "pycharm": {
     "name": "#%%\n"
    }
   },
   "outputs": [],
   "source": [
    "ADCP = process_adcp.calcXYZfrom3beam(ADCP, options)"
   ]
  },
  {
   "cell_type": "code",
   "execution_count": null,
   "id": "99650fcc-d341-491e-85ed-b340e98bc1d4",
   "metadata": {},
   "outputs": [],
   "source": [
    "ADCP = process_adcp.calcENUfromXYZ(ADCP, options)"
   ]
  },
  {
   "cell_type": "markdown",
   "id": "e4e96c53-9dda-4b3e-8593-3d3cf8067e6a",
   "metadata": {
    "tags": []
   },
   "source": [
    "## 1.11 Grid shear"
   ]
  },
  {
   "cell_type": "code",
   "execution_count": null,
   "id": "30622b6c-6a74-4c0a-9345-de11cd1c5e81",
   "metadata": {},
   "outputs": [],
   "source": [
    "xaxis, yaxis, taxis, days = process_adcp.grid_shear_data(data)\n",
    "out = process_adcp.grid_data(ADCP, data, {}, xaxis, yaxis)\n",
    "ds = process_adcp.make_dataset(out)"
   ]
  },
  {
   "cell_type": "markdown",
   "id": "31063a2c-8860-45cc-9162-43e9f91b172c",
   "metadata": {},
   "source": [
    "# 1.12 Write out data\n",
    "\n",
    "**ds** is an xarray dataset of data gridded by depth bin and profile number, ready for processing"
   ]
  },
  {
   "cell_type": "code",
   "execution_count": null,
   "id": "f68e4d85-6c74-4b71-92ea-4d4a300b5ab4",
   "metadata": {},
   "outputs": [],
   "source": [
    "ds.to_netcdf(\"gridded_shear.nc\")"
   ]
  },
  {
   "cell_type": "markdown",
   "id": "816310be-b8d2-4514-beae-5a79ea410405",
   "metadata": {},
   "source": [
    "# Part 2: shear to velocity\n",
    "\n",
    "After calculating velocity shear, there are several options for integrating and referencing this shear to obtain velocity profiles. This section demonstrates some of these options\n",
    "\n",
    "# 2.1 Add extra variables for integrating shear\n",
    "\n",
    "To calculate dive average current we require more variables, including estimates of the glider's movement through the water."
   ]
  },
  {
   "cell_type": "code",
   "execution_count": null,
   "id": "6551a354-1929-4f7e-b2ef-f782263f7b16",
   "metadata": {},
   "outputs": [],
   "source": [
    "import pandas as pd\n",
    "\n",
    "extra_data = pd.read_parquet(glider_pqt_path)\n",
    "extra_data.index = data.index\n",
    "data[\"speed_vert\"] = extra_data[\"speed_vert\"]\n",
    "data[\"speed_horz\"] = extra_data[\"speed_horz\"]\n",
    "data[\"dead_reckoning\"] = extra_data[\"dead_reckoning\"]\n",
    "data[\"nav_resource\"] = extra_data[\"nav_state\"]\n",
    "data[\"dive_number\"] = extra_data[\"dive_number\"]"
   ]
  },
  {
   "cell_type": "markdown",
   "id": "5e6a48c9-3929-4da2-96e0-4688e0cfa35b",
   "metadata": {},
   "source": [
    "## 2.2. Calculate dive-averaged current"
   ]
  },
  {
   "cell_type": "code",
   "execution_count": null,
   "id": "5236a309-991b-430c-9243-482031f343cc",
   "metadata": {},
   "outputs": [],
   "source": [
    "data = process_adcp.get_DAC(ADCP, data)"
   ]
  },
  {
   "cell_type": "markdown",
   "id": "c83a7fce-b49b-4edc-9717-d51a11734457",
   "metadata": {},
   "source": [
    "## 2.3. Get surface drift"
   ]
  },
  {
   "cell_type": "code",
   "execution_count": null,
   "id": "acb65ba6-72a6-4ca6-970e-9509b0182896",
   "metadata": {},
   "outputs": [],
   "source": [
    "dE,dN,dT = process_adcp.getSurfaceDrift(data)"
   ]
  },
  {
   "cell_type": "markdown",
   "id": "df8b2d74-55a3-46c0-a7de-df2f1f9458b5",
   "metadata": {},
   "source": [
    "## 2.4. Get bottom track data \n",
    "Bottom track data only calculated if the ADCP is bottom mounted"
   ]
  },
  {
   "cell_type": "code",
   "execution_count": null,
   "id": "1514379b-428f-4261-ad55-93c1d7a1d755",
   "metadata": {},
   "outputs": [],
   "source": [
    "ADCP = process_adcp.bottom_track(ADCP, adcp_path, options)"
   ]
  },
  {
   "cell_type": "markdown",
   "id": "170df9fb-af38-4adf-8cf6-632ac76a8c97",
   "metadata": {},
   "source": [
    "## 2.5. Reference ADCP data\n",
    "\n",
    "Here we reference data to dive average current (DAC)."
   ]
  },
  {
   "cell_type": "code",
   "execution_count": null,
   "id": "2b4936b9-219a-490e-bc47-0b9179308c0b",
   "metadata": {},
   "outputs": [],
   "source": [
    "out = process_adcp.reference_shear(ADCP, data, xaxis, yaxis)"
   ]
  },
  {
   "cell_type": "markdown",
   "id": "d3544d1e-3b76-4deb-b1d3-9a410c5525db",
   "metadata": {},
   "source": [
    "## 2.6 Grid and plot data"
   ]
  },
  {
   "cell_type": "code",
   "execution_count": null,
   "id": "88966b70-c815-4743-b88f-a0499db2360a",
   "metadata": {},
   "outputs": [],
   "source": [
    "out = process_adcp.grid_data(ADCP, data, out, xaxis, yaxis)"
   ]
  },
  {
   "cell_type": "code",
   "execution_count": null,
   "id": "5c05694a-e33d-465b-8061-8bb859e72c26",
   "metadata": {},
   "outputs": [],
   "source": [
    "process_adcp.verify_depth_bias(out, yaxis)"
   ]
  },
  {
   "cell_type": "markdown",
   "id": "bb937601-957e-4b6d-86c7-3fcf0168cd65",
   "metadata": {},
   "source": [
    "### 2.7 Correct shear bias"
   ]
  },
  {
   "cell_type": "code",
   "execution_count": null,
   "id": "1f5f96d0-249d-4b0b-92bf-77f65106bc93",
   "metadata": {},
   "outputs": [],
   "source": [
    "out = process_adcp.calc_bias(out, yaxis)"
   ]
  },
  {
   "cell_type": "markdown",
   "id": "b436018a-f20d-4d17-a1c3-265f1de1adc9",
   "metadata": {},
   "source": [
    "## 2.8 Create xarray DataSet from `out`"
   ]
  },
  {
   "cell_type": "code",
   "execution_count": null,
   "id": "e20656c2-a0d9-4c4f-9665-ff96be62220b",
   "metadata": {},
   "outputs": [],
   "source": [
    "ds = process_adcp.make_dataset(out)\n",
    "ds.to_netcdf(\"gridded_velocity.nc\")"
   ]
  }
 ],
 "metadata": {
  "kernelspec": {
   "display_name": "Python 3 (ipykernel)",
   "language": "python",
   "name": "python3"
  },
  "language_info": {
   "codemirror_mode": {
    "name": "ipython",
    "version": 3
   },
   "file_extension": ".py",
   "mimetype": "text/x-python",
   "name": "python",
   "nbconvert_exporter": "python",
   "pygments_lexer": "ipython3",
   "version": "3.10.12"
  }
 },
 "nbformat": 4,
 "nbformat_minor": 5
}
