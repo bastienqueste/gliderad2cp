{
 "cells": [
  {
   "cell_type": "markdown",
   "id": "90eaeddf-9d35-4d87-985a-687906a2f223",
   "metadata": {},
   "source": [
    "# Imports  "
   ]
  },
  {
   "cell_type": "code",
   "execution_count": null,
   "id": "56093d12-5fd8-4afc-b5e2-f60742f8c273",
   "metadata": {
    "tags": []
   },
   "outputs": [],
   "source": [
    "from gliderad2cp import process_currents, process_shear, process_bias, tools, download_example_data\n",
    "import cmocean.cm as cmo\n",
    "import matplotlib.pyplot as plt\n",
    "import xarray as xr\n",
    "import numpy as np"
   ]
  },
  {
   "cell_type": "markdown",
   "id": "902fbd52-511b-4fdd-9cc4-26eacb4d90fc",
   "metadata": {},
   "source": [
    "### Settings\n",
    "\n",
    "There are several options that can - and should - be customised including:\n",
    "- QC correlation, amplitude and velocity thresholds\n",
    "- Resolution of gridded output\n",
    "- Offsets to correct for transducer misalignment\n",
    "- Shear bias regression depths\n",
    "\n",
    "Others that can - and maybe shouldn't - be customised:\n",
    "- Distance weighting of shear bias corrections\n",
    "- Velocity dependence of shear bias corrections\n",
    "\n",
    "These are all set in the `options` dict. Running the `get_options` functions returns a default set of options, which are a great place to start.\n",
    "\n",
    "In the example below, we grid per 3-profiles as we only require approx. half hour resolution. We restrict the shear-bias regression to depths deeper than 10m to eliminate potential effects of surface circulation causing velocity variance independent of instrument shear bias."
   ]
  },
  {
   "cell_type": "code",
   "execution_count": null,
   "id": "2601872e-9688-418c-945a-28a767fe13e8",
   "metadata": {
    "tags": []
   },
   "outputs": [],
   "source": [
    "options = tools.get_options(xaxis=3, yaxis=None, shear_bias_regression_depth_slice=(10,1000))"
   ]
  },
  {
   "cell_type": "markdown",
   "id": "8afd8ecb-55ea-4d74-847a-98947ac01558",
   "metadata": {},
   "source": [
    "# Load data\n",
    "\n",
    "`gliderad2cp` requires a netCDF file from a Nortek AD2CP which can be produced using the Nortek MIDAS software and a timeseries of glider data. This timeseries can be read from a netCDF, csv, or parquet file, or passed in as an xarray DataSet or pandas Dataframe. The essential variables are:\n",
    "\n",
    "- time\n",
    "- pressure\n",
    "- temperature\n",
    "- salinity\n",
    "- latitude\n",
    "- longitude\n",
    "- profile_number\n",
    "\n",
    "There are several example datasets available from the function `load_sample_dataset`. We use one of the [VOTO example datasets from the Baltic](https://observations.voiceoftheocean.org/SEA055/M82) in this notebook"
   ]
  },
  {
   "cell_type": "code",
   "execution_count": null,
   "id": "8bb96eb1-d100-487f-aa26-8fcac2d66830",
   "metadata": {
    "tags": []
   },
   "outputs": [],
   "source": [
    "data_file = download_example_data.load_sample_dataset(dataset_name=\"sea055_M82.nc\")\n",
    "adcp_file = download_example_data.load_sample_dataset(dataset_name=\"sea055_M82.ad2cp.00000.nc\")"
   ]
  },
  {
   "cell_type": "markdown",
   "id": "448e1770-ab08-490c-9138-50913a61ec55",
   "metadata": {
    "tags": []
   },
   "source": [
    "# Step 1: calculate velocity shear\n",
    "\n",
    "This is handled by the wrapper function `process_shear.process()`. The individual steps of processing are detailed in the [documentation](https://www.flow-lab.org/gliderad2cp/).\n",
    "\n",
    "The output of this function is a gridded xarray dataset including data from the AD2CP like ensemble correlation and return amplitude, as well as calculated glider relative velocities and profiles of eastward, northward, and vertical velocities SH_E, Sh_N and Sh_U."
   ]
  },
  {
   "cell_type": "code",
   "execution_count": null,
   "id": "95656334-5bb7-4323-aa4e-5b220b1fe418",
   "metadata": {
    "tags": []
   },
   "outputs": [],
   "source": [
    "ds_adcp = process_shear.process(adcp_file, data_file, options)"
   ]
  },
  {
   "cell_type": "markdown",
   "id": "c9738af8-c23c-4d1c-87fc-221a8027cc76",
   "metadata": {},
   "source": [
    "### Plots\n",
    "\n",
    "The output of `process_shear.process()` can be plotted to visually examine per-beam, per-bin values. This can be useful for fine tuning QC settings in `options`.\n",
    "\n",
    "Here we observe velocity measured along the X-direction of the ADCP, as a function of both time and distance from the glider; this would be equivalent to the opposite of the glider's speed through water if it had no angle of attack."
   ]
  },
  {
   "cell_type": "code",
   "execution_count": null,
   "id": "aedeca51-2a25-4d03-82f3-0a68e82176cd",
   "metadata": {
    "tags": []
   },
   "outputs": [],
   "source": [
    "fig, ax = plt.subplots(figsize=(12, 8))\n",
    "mappable = ax.pcolormesh(ds_adcp.time, ds_adcp.gridded_bin, ds_adcp.X.T, cmap='PiYG', vmin=-1, vmax=1)\n",
    "fig.colorbar(ax=ax,mappable=mappable, label='X velocity (along glider, m.s$^{-1}$)')\n",
    "ax.set(ylabel='Bin number', title='Return amplitude Beam 2', xlim=(np.datetime64(\"2024-10-11T10\"), np.datetime64(\"2024-10-11T12\")))\n",
    "ax.invert_yaxis()\n"
   ]
  },
  {
   "cell_type": "markdown",
   "id": "816310be-b8d2-4514-beae-5a79ea410405",
   "metadata": {},
   "source": [
    "# Step 2: shear to velocity\n",
    "\n",
    "After calculating velocity shear, this can be integrated and referenced to estimate earth-relative velocity profiles.\n",
    "\n",
    "The function `process_currents.process` handles this step, returning DAC-referenced velocity profiles.\n",
    "\n",
    "### Prerequisite: Get pre- and post-dive GPS locations from glider data\n",
    "\n",
    "Referencing is done against dive-averaged currents, which provided an estimate of the barotropic component of the velocity profile. To calculate dive-averaged currents, we opt to use the instrument as a doppler-velocity logger. If we input both the pre- and post-dive GPS locations of the glider, we can calculate both the displacement through water (from DVL) and the displacement over earth (from GPS); the difference divided by dive-duration is the estimate of dive-averaged currents.\n",
    "\n",
    "As all gliders have different GPS formats, we leave it to you to provide coordinates and timestamps for dives and surfacings. The code is able to cope with consecutive no-surface dives as well as loiter dives by weighting the baroclinic profiles before referencing to dive-averaged currents.\n",
    "\n",
    "See the documentation for more examples of this calculation and make use of the verification plots. Alternatively, one can manually reference the output of the `process_currents._grid_shear` and `process_currents._grid_velocity` functions. This can be useful if one wishes to use a level of no motion, bottom tracking (which will be implemented in a later release) or surface drift."
   ]
  },
  {
   "cell_type": "code",
   "execution_count": null,
   "id": "9528af41-156d-4ecd-979b-4c73748d6235",
   "metadata": {
    "tags": []
   },
   "outputs": [],
   "source": [
    "data = xr.open_dataset(data_file)\n",
    "gps_predive = []\n",
    "gps_postdive = []\n",
    "\n",
    "dives = np.round(np.unique(data.dive_num))\n",
    "\n",
    "_idx = np.arange(len(data.dead_reckoning.values))\n",
    "dr  = np.sign(np.gradient(data.dead_reckoning.values))\n",
    "\n",
    "for dn in dives:\n",
    "    _gd = data.dive_num.values == dn\n",
    "    if all(np.unique(dr[_gd]) == 0):\n",
    "        continue\n",
    "\n",
    "    _post = -dr.copy()\n",
    "    _post[_post != 1] = np.nan\n",
    "    _post[~_gd] = np.nan\n",
    "\n",
    "    _pre = dr.copy()\n",
    "    _pre[_pre != 1] = np.nan\n",
    "    _pre[~_gd] = np.nan\n",
    "\n",
    "    if any(np.isfinite(_post)):\n",
    "        # The last -1 value is when deadreckoning is set to 0, ie. GPS fix. This is post-dive.\n",
    "        last  = int(np.nanmax(_idx * _post))\n",
    "        gps_postdive.append(np.array([data.time[last].values, data.longitude[last].values, data.latitude[last].values]))\n",
    "\n",
    "    if any(np.isfinite(_pre)):\n",
    "        # The first +1 value is when deadreckoning is set to 1, the index before that is the last GPS fix. This is pre-dive.\n",
    "        first = int(np.nanmin(_idx * _pre))-1 # Note the -1 here.\n",
    "        gps_predive.append(np.array([data.time[first].values, data.longitude[first].values, data.latitude[first].values]))\n",
    "\n",
    "gps_predive = np.vstack(gps_predive)\n",
    "gps_postdive = np.vstack(gps_postdive)"
   ]
  },
  {
   "cell_type": "markdown",
   "id": "fc798e56-8950-40d1-a616-57033cf99f1d",
   "metadata": {},
   "source": [
    "We expect `gps_postdive` and `gps_predive` to show as vertical blue and red lines respectively at the beginning and end of a glider surfacing manouvre. In a mission with multiple no-surface dives, as shown in the example below, the dives where the gliders does not surface to fix GPS, do not get assigned `gps_postdive` and `gps_predive`."
   ]
  },
  {
   "cell_type": "code",
   "execution_count": null,
   "id": "4027b5b0-dff1-471a-8ef2-87e5c4d83d45",
   "metadata": {
    "tags": []
   },
   "outputs": [],
   "source": [
    "fig, ax = plt.subplots(figsize=(8, 6))\n",
    "ax.plot(data.time, data.depth, color='k')\n",
    "for predive in gps_predive:\n",
    "    ax.axvline(predive[0], color='r')\n",
    "ax.axvline(predive[0], color='r', label='GPS predive')\n",
    "\n",
    "for postdive in gps_postdive:\n",
    "    ax.axvline(postdive[0], color='b')\n",
    "ax.axvline(postdive[0], color='b', label='GPS postdive')\n",
    "ax.invert_yaxis()\n",
    "ax.set(xlim=(np.datetime64(\"2024-10-11T00:30\"), np.datetime64(\"2024-10-11T03:30\")), ylabel='Depth (m)')\n",
    "ax.legend();"
   ]
  },
  {
   "cell_type": "code",
   "execution_count": null,
   "id": "6551a354-1929-4f7e-b2ef-f782263f7b16",
   "metadata": {
    "tags": []
   },
   "outputs": [],
   "source": [
    "currents, DAC = process_currents.process(ds_adcp, gps_predive, gps_postdive, options)"
   ]
  },
  {
   "cell_type": "markdown",
   "id": "25dd5c17-eeb7-4f3d-b9b5-6d15d2dea0b0",
   "metadata": {},
   "source": [
    "### Plot DAC referenced currents\n",
    "\n",
    "We can plot the DAC-referenced eastward and northward velocities."
   ]
  },
  {
   "cell_type": "code",
   "execution_count": null,
   "id": "ba6d7d89-4cdf-4d4a-b6a2-f515008a23c5",
   "metadata": {
    "tags": []
   },
   "outputs": [],
   "source": [
    "\n",
    "plt.figure(figsize=(20,6))\n",
    "\n",
    "plt.subplot(121)\n",
    "plt.pcolormesh(currents.velocity_E_DAC_reference, cmap=cmo.balance)\n",
    "plt.gca().invert_yaxis()\n",
    "plt.colorbar()\n",
    "plt.clim([-0.6, 0.6])\n",
    "\n",
    "plt.subplot(122)\n",
    "plt.pcolormesh(currents.velocity_N_DAC_reference, cmap=cmo.balance)\n",
    "plt.gca().invert_yaxis()\n",
    "plt.colorbar()\n",
    "plt.clim([-0.6, 0.6])"
   ]
  },
  {
   "cell_type": "markdown",
   "id": "5e6a48c9-3929-4da2-96e0-4688e0cfa35b",
   "metadata": {},
   "source": [
    "# Step 3: Estimate and correct shear bias\n",
    "\n",
    "This optional processing step attempts to correct for along-beam shear bias. Shear-bias is described in Todd et al. 2017 (JAOTECH, https://doi.org/10.1175/JTECH-D-16-0156.1), section 3.2.b.\n",
    "\n",
    "Shear-bias is the result of very small shear present in beams during individual pings. It is not yet known what causes it although reports from Nortek and others suggest an instrument dependence. It is also reduced with stricter signal-to-noise ratio thresholds. As shear is exagerated throughout the water-column, the error in velocity grows with the depth of the profile. It is generally visible as an erroneous supplement velocity component aligned with the glider's direction of travel.\n",
    "\n",
    "As it grows with profile-depth, it is almost inconsequential in this example but we do it to serve as an example."
   ]
  },
  {
   "cell_type": "code",
   "execution_count": null,
   "id": "5236a309-991b-430c-9243-482031f343cc",
   "metadata": {
    "tags": []
   },
   "outputs": [],
   "source": [
    "currents = process_bias.process(currents,options)"
   ]
  },
  {
   "cell_type": "markdown",
   "id": "7b3257e0-5b2d-45d9-8b4f-0f9c9211ba21",
   "metadata": {},
   "source": [
    "# Compare outputs\n",
    "\n",
    "The following three plots contrast the eastward velocities estimates at three crutical points of processing:\n",
    "1. From integration of shear\n",
    "2. After referencing integrated shear profiles to DAC\n",
    "3. After applying the shear bias correction to DAC referenced velocities "
   ]
  },
  {
   "cell_type": "code",
   "execution_count": null,
   "id": "d0fb38d8-c3d5-45f9-9d64-162d04ef05d2",
   "metadata": {
    "tags": []
   },
   "outputs": [],
   "source": [
    "currents"
   ]
  },
  {
   "cell_type": "code",
   "execution_count": null,
   "id": "630cae5c-2478-4526-9154-067180a8477e",
   "metadata": {
    "tags": []
   },
   "outputs": [],
   "source": [
    "variables = [\"velocity_E_no_reference\", \"velocity_E_DAC_reference\", \"velocity_E_DAC_reference_sb_corrected\"]\n",
    "titles = [\"No referencing\", \"DAC referencing\", \"DAC referencing, bias correction\"]\n",
    "fig, axs = plt.subplots(3, 1, figsize=(10,14))\n",
    "for i in range(3):\n",
    "    ax = axs[i]\n",
    "    mappable = ax.pcolormesh(currents.time[:-1], currents.depth, currents[variables[i]][:, :-1], cmap=cmo.balance, vmin=-0.6, vmax=0.6)\n",
    "    ax.invert_yaxis()\n",
    "    fig.colorbar(ax=ax,mappable=mappable, label='Eastward velocity (m/s)')\n",
    "    ax.set(ylabel='Depth (m)', title=titles[i])"
   ]
  }
 ],
 "metadata": {
  "kernelspec": {
   "display_name": "Python 3 (ipykernel)",
   "language": "python",
   "name": "python3"
  },
  "language_info": {
   "codemirror_mode": {
    "name": "ipython",
    "version": 3
   },
   "file_extension": ".py",
   "mimetype": "text/x-python",
   "name": "python",
   "nbconvert_exporter": "python",
   "pygments_lexer": "ipython3",
   "version": "3.9.7"
  }
 },
 "nbformat": 4,
 "nbformat_minor": 5
}
