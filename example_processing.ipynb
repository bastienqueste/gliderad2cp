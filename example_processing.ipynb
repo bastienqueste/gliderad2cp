{
 "cells": [
  {
   "cell_type": "markdown",
   "id": "90eaeddf-9d35-4d87-985a-687906a2f223",
   "metadata": {},
   "source": [
    "# Imports  "
   ]
  },
  {
   "cell_type": "code",
   "execution_count": null,
   "id": "56093d12-5fd8-4afc-b5e2-f60742f8c273",
   "metadata": {},
   "outputs": [],
   "source": [
    "from gliderad2cp import process_currents, process_shear, process_bias, tools, download_example_data\n",
    "import cmocean.cm as cmo\n",
    "import matplotlib.pyplot as plt\n",
    "import xarray as xr\n",
    "import numpy as np"
   ]
  },
  {
   "cell_type": "markdown",
   "id": "902fbd52-511b-4fdd-9cc4-26eacb4d90fc",
   "metadata": {},
   "source": [
    "There are several options that can be customised including correlation thresholds, velocity regridding options, and offsets to correct for transducer misalignment. There are all set in the `options` dict."
   ]
  },
  {
   "cell_type": "code",
   "execution_count": null,
   "id": "2601872e-9688-418c-945a-28a767fe13e8",
   "metadata": {},
   "outputs": [],
   "source": [
    "options = tools.get_options(xaxis=1, yaxis=3, QC_correlation_threshold=80,\n",
    "                            QC_amplitude_threshold=80, QC_velocity_threshold=1.5, \n",
    "                            velocity_dependent_shear_bias_correction=False, \n",
    "                            shear_bias_regression_depth_slice=(10,1000))"
   ]
  },
  {
   "cell_type": "markdown",
   "id": "8afd8ecb-55ea-4d74-847a-98947ac01558",
   "metadata": {},
   "source": [
    "# Load data\n",
    "\n",
    "`gliderad2cp` requires a netCDF file from a Nortek AD2CP which can be produced using the Nortek MIDAS software and a timeseries of glider data. This timeseries can be read from a netCDF, csv, or parquet file, or passed in as an xarray DataSet or pandas Dataframe. The essential variables are:\n",
    "\n",
    "- \"time\"\n",
    "- \"temperature\"\n",
    "- \"salinity\"\n",
    "- \"latitude\"\n",
    "- \"pressure\"\n",
    "- \"longitude\"\n",
    "- \"profile_number\"\n",
    "- \"declination\"\n",
    "\n",
    "There are several example datasets available from the function `load_sample_dataset`. We use one of datasets in this notebook"
   ]
  },
  {
   "cell_type": "code",
   "execution_count": null,
   "id": "8bb96eb1-d100-487f-aa26-8fcac2d66830",
   "metadata": {},
   "outputs": [],
   "source": [
    "data_file = download_example_data.load_sample_dataset(dataset_name=\"sea055_M82.nc\")\n",
    "adcp_file = download_example_data.load_sample_dataset(dataset_name=\"sea055_M82.ad2cp.00000.nc\")"
   ]
  },
  {
   "cell_type": "markdown",
   "id": "448e1770-ab08-490c-9138-50913a61ec55",
   "metadata": {
    "tags": []
   },
   "source": [
    "# Step 1: calculate velocity shear\n",
    "\n",
    "This is handled by the wrapper function `process_shear.process`. The individual steps of processing are detailed in the [documentation](https://www.flow-lab.org/gliderad2cp/).\n",
    "\n",
    "The output of this function is a gridded xarray dataset including glider relative velocities and profiles of eastward, northward, and vertical velocities SH_E, Sh_N and Sh_U."
   ]
  },
  {
   "cell_type": "code",
   "execution_count": null,
   "id": "95656334-5bb7-4323-aa4e-5b220b1fe418",
   "metadata": {},
   "outputs": [],
   "source": [
    "ds_adcp = process_shear.process(adcp_file, data_file, options)"
   ]
  },
  {
   "cell_type": "code",
   "execution_count": null,
   "id": "aedeca51-2a25-4d03-82f3-0a68e82176cd",
   "metadata": {},
   "outputs": [],
   "source": [
    "plt.subplots(figsize=(12, 8))\n",
    "plt.pcolormesh(ds_adcp.time, ds_adcp.gridded_bin, ds_adcp.Sh_E.T, cmap=cmo.balance)\n",
    "plt.colorbar(label='s-1')\n",
    "plt.clim([-0.05, 0.05])\n",
    "plt.xlim(np.datetime64(\"2024-10-11\"), np.datetime64(\"2024-10-12\"))\n",
    "plt.ylim(0, 30)\n",
    "plt.title('Vertical shear of eastward velocity')\n",
    "plt.gca().invert_yaxis()"
   ]
  },
  {
   "cell_type": "markdown",
   "id": "816310be-b8d2-4514-beae-5a79ea410405",
   "metadata": {},
   "source": [
    "# Step 2: shear to velocity\n",
    "\n",
    "After calculating velocity shear, this can be integrated and referenced to estimate earth relative velocity profiles.\n",
    "\n",
    "The function `process_currents.process` handles this step, returning DAC referenced velocity profiles.\n",
    "\n",
    "### Get pre and post dive GPS locations from glider data\n",
    "\n",
    "To calculate dive average current we require more variables, including estimates of the glider's movement through the water. For this, we need the pre and post dive GPS locations of the glider. This calculation varies between glider models, processing tools and glider firmware versions. See the documentation for more examples of this calculation and make use of the verification plots"
   ]
  },
  {
   "cell_type": "code",
   "execution_count": null,
   "id": "9528af41-156d-4ecd-979b-4c73748d6235",
   "metadata": {},
   "outputs": [],
   "source": [
    "data = xr.open_dataset(data_file)\n",
    "gps_predive = []\n",
    "gps_postdive = []\n",
    "\n",
    "dives = np.round(np.unique(data.dive_num))\n",
    "\n",
    "_idx = np.arange(len(data.dead_reckoning.values))\n",
    "dr  = np.sign(np.gradient(data.dead_reckoning.values))\n",
    "\n",
    "for dn in dives:\n",
    "    _gd = data.dive_num.values == dn\n",
    "    if all(np.unique(dr[_gd]) == 0):\n",
    "        continue\n",
    "\n",
    "    _post = -dr.copy()\n",
    "    _post[_post != 1] = np.nan\n",
    "    _post[~_gd] = np.nan\n",
    "\n",
    "    _pre = dr.copy()\n",
    "    _pre[_pre != 1] = np.nan\n",
    "    _pre[~_gd] = np.nan\n",
    "\n",
    "    if any(np.isfinite(_post)):\n",
    "        # The last -1 value is when deadreckoning is set to 0, ie. GPS fix. This is post-dive.\n",
    "        last  = int(np.nanmax(_idx * _post))\n",
    "        gps_postdive.append(np.array([data.time[last].values, data.longitude[last].values, data.latitude[last].values]))\n",
    "\n",
    "    if any(np.isfinite(_pre)):\n",
    "        # The first +1 value is when deadreckoning is set to 1, the index before that is the last GPS fix. This is pre-dive.\n",
    "        first = int(np.nanmin(_idx * _pre))-1 # Note the -1 here.\n",
    "        gps_predive.append(np.array([data.time[first].values, data.longitude[first].values, data.latitude[first].values]))\n",
    "\n",
    "gps_predive = np.vstack(gps_predive)\n",
    "gps_postdive = np.vstack(gps_postdive)"
   ]
  },
  {
   "cell_type": "markdown",
   "id": "fc798e56-8950-40d1-a616-57033cf99f1d",
   "metadata": {},
   "source": [
    "We expect `gps_postdive` and `gps_predive` to show as vertical blue and red lines respectively at the beginning and end of a glider surfacing manouvre. In a mission with multiple no-surface dives, as shown in the example below, the dives where the gliders does not surface to fix GPS, do not get assigned `gps_postdive` and `gps_predive`."
   ]
  },
  {
   "cell_type": "code",
   "execution_count": null,
   "id": "4027b5b0-dff1-471a-8ef2-87e5c4d83d45",
   "metadata": {},
   "outputs": [],
   "source": [
    "fig, ax = plt.subplots(figsize=(8, 6))\n",
    "ax.plot(data.time, data.depth, color='k')\n",
    "for predive in gps_predive:\n",
    "    ax.axvline(predive[0], color='r')\n",
    "ax.axvline(predive[0], color='r', label='GPS predive')\n",
    "\n",
    "for postdive in gps_postdive:\n",
    "    ax.axvline(postdive[0], color='b')\n",
    "ax.axvline(postdive[0], color='b', label='GPS postdive')\n",
    "ax.invert_yaxis()\n",
    "ax.set(xlim=(np.datetime64(\"2024-10-11T00:30\"), np.datetime64(\"2024-10-11T03:30\")), ylabel='Depth (m)')\n",
    "ax.legend();"
   ]
  },
  {
   "cell_type": "code",
   "execution_count": null,
   "id": "6551a354-1929-4f7e-b2ef-f782263f7b16",
   "metadata": {},
   "outputs": [],
   "source": [
    "currents, DAC = process_currents.process(ds_adcp, gps_predive, gps_postdive, options)"
   ]
  },
  {
   "cell_type": "markdown",
   "id": "25dd5c17-eeb7-4f3d-b9b5-6d15d2dea0b0",
   "metadata": {},
   "source": [
    "### Plot DAC referenced currents"
   ]
  },
  {
   "cell_type": "code",
   "execution_count": null,
   "id": "ba6d7d89-4cdf-4d4a-b6a2-f515008a23c5",
   "metadata": {},
   "outputs": [],
   "source": [
    "\n",
    "plt.figure(figsize=(20,6))\n",
    "\n",
    "plt.subplot(121)\n",
    "plt.pcolormesh(currents.velocity_E_DAC_reference, cmap=cmo.balance)\n",
    "plt.gca().invert_yaxis()\n",
    "plt.colorbar()\n",
    "plt.clim([-0.6, 0.6])\n",
    "\n",
    "plt.subplot(122)\n",
    "plt.pcolormesh(currents.velocity_N_DAC_reference, cmap=cmo.balance)\n",
    "plt.gca().invert_yaxis()\n",
    "plt.colorbar()\n",
    "plt.clim([-0.6, 0.6])"
   ]
  },
  {
   "cell_type": "markdown",
   "id": "5e6a48c9-3929-4da2-96e0-4688e0cfa35b",
   "metadata": {},
   "source": [
    "# Step 3: Estimate and correct shear bias\n",
    "\n",
    "This additional, optional processing step attempts to correct for along beam shear bias."
   ]
  },
  {
   "cell_type": "code",
   "execution_count": null,
   "id": "5236a309-991b-430c-9243-482031f343cc",
   "metadata": {},
   "outputs": [],
   "source": [
    "currents = process_bias.process(currents,options)"
   ]
  },
  {
   "cell_type": "markdown",
   "id": "7b3257e0-5b2d-45d9-8b4f-0f9c9211ba21",
   "metadata": {},
   "source": [
    "### Compare\n",
    "\n",
    "The following three plots contrast the eastward velocities from integration of shear, after referencing to DAC and following shear bias correction"
   ]
  },
  {
   "cell_type": "code",
   "execution_count": null,
   "id": "1572eea4-73f2-4c67-bdd1-fd1e2f435fa7",
   "metadata": {},
   "outputs": [],
   "source": [
    "plt.figure(figsize=(9,14))\n",
    "import cmocean.cm as cmo\n",
    "\n",
    "plt.subplot(311)\n",
    "plt.pcolormesh(currents.velocity_E_no_reference, cmap=cmo.balance)\n",
    "plt.gca().invert_yaxis()\n",
    "plt.colorbar()\n",
    "plt.clim([-0.6, 0.6])\n",
    "plt.title('No referencing')\n",
    "\n",
    "plt.subplot(312)\n",
    "plt.pcolormesh(currents.velocity_E_DAC_reference, cmap=cmo.balance)\n",
    "plt.gca().invert_yaxis()\n",
    "plt.colorbar()\n",
    "plt.clim([-0.6, 0.6])\n",
    "plt.title('DAC referencing')\n",
    "\n",
    "plt.subplot(313)\n",
    "plt.pcolormesh(currents.velocity_E_DAC_reference_sb_corrected, cmap=cmo.balance)\n",
    "plt.gca().invert_yaxis()\n",
    "plt.colorbar()\n",
    "plt.clim([-0.6, 0.6])\n",
    "plt.title('DAC referencing, bias correction')\n"
   ]
  }
 ],
 "metadata": {
  "kernelspec": {
   "display_name": "Python 3 (ipykernel)",
   "language": "python",
   "name": "python3"
  },
  "language_info": {
   "codemirror_mode": {
    "name": "ipython",
    "version": 3
   },
   "file_extension": ".py",
   "mimetype": "text/x-python",
   "name": "python",
   "nbconvert_exporter": "python",
   "pygments_lexer": "ipython3",
   "version": "3.10.12"
  }
 },
 "nbformat": 4,
 "nbformat_minor": 5
}
